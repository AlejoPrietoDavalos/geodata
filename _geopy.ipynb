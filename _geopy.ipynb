{
 "cells": [
  {
   "cell_type": "code",
   "execution_count": null,
   "metadata": {},
   "outputs": [],
   "source": [
    "from typing import Tuple\n",
    "from concurrent.futures import ThreadPoolExecutor, as_completed\n",
    "\n",
    "from geopy.geocoders import Nominatim\n",
    "from pymongo import MongoClient\n",
    "\n",
    "from geodata.db.client import WorldDataDB\n",
    "from geodata.db.models.city import City\n",
    "\n",
    "def search_osm(geolocalizador: Nominatim, name: str, state_code: str, iso2: str) -> str:\n",
    "    query = f\"{name}, {state_code}, {iso2}\"\n",
    "    ubicacion = geolocalizador.geocode(query)\n",
    "\n",
    "    if ubicacion:\n",
    "        nombre = ubicacion.address\n",
    "        latitude = ubicacion.latitude\n",
    "        longitude = ubicacion.longitude\n",
    "        postal_code = ubicacion.raw.get('address', {}).get('postcode', 'No disponible')\n",
    "        _city = ubicacion.raw.get('address', {}).get('city', 'No disponible')\n",
    "        _state = ubicacion.raw.get('address', {}).get('state', 'No disponible')\n",
    "        _country = ubicacion.raw.get('address', {}).get('country', 'No disponible')\n",
    "        return postal_code\n",
    "    else:\n",
    "        return 'No disponible'"
   ]
  },
  {
   "cell_type": "code",
   "execution_count": null,
   "metadata": {},
   "outputs": [],
   "source": [
    "mongo_client = MongoClient()\n",
    "db = WorldDataDB(mongo_client=mongo_client)"
   ]
  },
  {
   "cell_type": "code",
   "execution_count": null,
   "metadata": {},
   "outputs": [],
   "source": [
    "def sarasa(geolocalizador: Nominatim, city_doc: dict) -> Tuple[City, str]:\n",
    "    city = City(**city_doc)\n",
    "    if len(city.postal_codes_wikidata) == 0 and city.state_code is not None:\n",
    "        s = search_osm(geolocalizador, city.city_name, city.state_code, city.country_code)\n",
    "        if s != \"No disponible\":\n",
    "            display(city)\n",
    "            display(s)\n",
    "            display(\"-\"*40)\n",
    "        return city, s\n",
    "    else:\n",
    "        return city, \"No disponible\"\n",
    "\n",
    "geolocalizador = Nominatim(user_agent=\"mi_aplicacion\")\n",
    "len_cities = sum(1 for _ in db.cities.coll.find({}))\n",
    "for i, city_doc in enumerate(db.cities.coll.find({}), start=1):\n",
    "    city, s = sarasa(geolocalizador, city_doc)\n",
    "    print(f\"{i}/{len_cities}\")"
   ]
  },
  {
   "cell_type": "code",
   "execution_count": null,
   "metadata": {},
   "outputs": [],
   "source": [
    "with ThreadPoolExecutor(max_workers=100) as pool:\n",
    "    iter_futures = (pool.submit(sarasa, geolocalizador, city_doc) for city_doc in db.cities.coll.find({}))\n",
    "    \n",
    "    for i, future in enumerate(as_completed(iter_futures), start=1):\n",
    "        city, s = future.result()\n",
    "        print(f\"{i}/{len_cities}\")"
   ]
  }
 ],
 "metadata": {
  "kernelspec": {
   "display_name": "env",
   "language": "python",
   "name": "python3"
  },
  "language_info": {
   "codemirror_mode": {
    "name": "ipython",
    "version": 3
   },
   "file_extension": ".py",
   "mimetype": "text/x-python",
   "name": "python",
   "nbconvert_exporter": "python",
   "pygments_lexer": "ipython3",
   "version": "3.11.7"
  }
 },
 "nbformat": 4,
 "nbformat_minor": 2
}
