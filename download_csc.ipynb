{
 "cells": [
  {
   "cell_type": "code",
   "execution_count": 1,
   "metadata": {},
   "outputs": [],
   "source": [
    "from typing import Optional, SupportsIndex\n",
    "from datetime import datetime, UTC\n",
    "from pathlib import Path\n",
    "from io import StringIO\n",
    "import requests\n",
    "import json\n",
    "import os\n",
    "\n",
    "from pymongo import MongoClient\n",
    "from pydantic import BaseModel\n",
    "import pandas as pd\n",
    "\n",
    "from geodata.db.client import WorldDataDB\n",
    "from geodata.csc.urls import UrlsCSC\n",
    "from geodata.csc.downloads import download_csv"
   ]
  },
  {
   "cell_type": "code",
   "execution_count": 2,
   "metadata": {},
   "outputs": [],
   "source": [
    "mongo_client = MongoClient()\n",
    "db = WorldDataDB(mongo_client=mongo_client)"
   ]
  },
  {
   "cell_type": "code",
   "execution_count": 3,
   "metadata": {},
   "outputs": [],
   "source": [
    "path_data = Path(\"data\")\n",
    "path_raw = path_data / \"raw\"\n",
    "path_csc = path_raw / \"countries_states_cities\"\n",
    "path_csc_urls = path_csc / \"urls_csc.json\""
   ]
  },
  {
   "cell_type": "markdown",
   "metadata": {},
   "source": [
    "- CSC data manually."
   ]
  },
  {
   "cell_type": "code",
   "execution_count": 4,
   "metadata": {},
   "outputs": [],
   "source": [
    "url = UrlsCSC.countries\n",
    "df_countries = download_csv(url)\n",
    "\n",
    "url = UrlsCSC.states\n",
    "df_states = download_csv(url)\n",
    "\n",
    "url = UrlsCSC.cities\n",
    "df_cities = download_csv(url)"
   ]
  },
  {
   "cell_type": "code",
   "execution_count": 6,
   "metadata": {},
   "outputs": [],
   "source": [
    "class RegionModel(BaseModel):\n",
    "    latitude: float\n",
    "    longitude: float"
   ]
  },
  {
   "cell_type": "code",
   "execution_count": null,
   "metadata": {},
   "outputs": [],
   "source": [
    "class Country(RegionModel):\n",
    "    iso2: str\n",
    "    name: str\n",
    "    name_native: Optional[str] = None\n",
    "    native: Optional[str] = None\n",
    "    phone_code: str\n",
    "    currency: str\n",
    "    tld: str\n",
    "\n",
    "countries = []\n",
    "for _, row in df_countries.iterrows():\n",
    "    if row[\"iso2\"] is not None:\n",
    "        try:\n",
    "            country = Country(**row)\n",
    "            countries.append(country)\n",
    "        except Exception as e:\n",
    "            print(e)\n",
    "            print(row)\n",
    "            # TODO: Log.\n",
    "            #pass\n",
    "    else:\n",
    "        #print(row)\n",
    "        # TODO: Log.\n",
    "        pass"
   ]
  },
  {
   "cell_type": "code",
   "execution_count": 9,
   "metadata": {},
   "outputs": [
    {
     "data": {
      "text/html": [
       "<div>\n",
       "<style scoped>\n",
       "    .dataframe tbody tr th:only-of-type {\n",
       "        vertical-align: middle;\n",
       "    }\n",
       "\n",
       "    .dataframe tbody tr th {\n",
       "        vertical-align: top;\n",
       "    }\n",
       "\n",
       "    .dataframe thead th {\n",
       "        text-align: right;\n",
       "    }\n",
       "</style>\n",
       "<table border=\"1\" class=\"dataframe\">\n",
       "  <thead>\n",
       "    <tr style=\"text-align: right;\">\n",
       "      <th></th>\n",
       "      <th>id</th>\n",
       "      <th>name</th>\n",
       "      <th>country_id</th>\n",
       "      <th>country_code</th>\n",
       "      <th>country_name</th>\n",
       "      <th>state_code</th>\n",
       "      <th>type</th>\n",
       "      <th>latitude</th>\n",
       "      <th>longitude</th>\n",
       "    </tr>\n",
       "  </thead>\n",
       "  <tbody>\n",
       "    <tr>\n",
       "      <th>0</th>\n",
       "      <td>3901</td>\n",
       "      <td>Badakhshan</td>\n",
       "      <td>1</td>\n",
       "      <td>AF</td>\n",
       "      <td>Afghanistan</td>\n",
       "      <td>BDS</td>\n",
       "      <td>None</td>\n",
       "      <td>36.734772</td>\n",
       "      <td>70.811995</td>\n",
       "    </tr>\n",
       "    <tr>\n",
       "      <th>1</th>\n",
       "      <td>3871</td>\n",
       "      <td>Badghis</td>\n",
       "      <td>1</td>\n",
       "      <td>AF</td>\n",
       "      <td>Afghanistan</td>\n",
       "      <td>BDG</td>\n",
       "      <td>None</td>\n",
       "      <td>35.167134</td>\n",
       "      <td>63.769538</td>\n",
       "    </tr>\n",
       "    <tr>\n",
       "      <th>2</th>\n",
       "      <td>3875</td>\n",
       "      <td>Baghlan</td>\n",
       "      <td>1</td>\n",
       "      <td>AF</td>\n",
       "      <td>Afghanistan</td>\n",
       "      <td>BGL</td>\n",
       "      <td>None</td>\n",
       "      <td>36.178903</td>\n",
       "      <td>68.745306</td>\n",
       "    </tr>\n",
       "    <tr>\n",
       "      <th>3</th>\n",
       "      <td>3884</td>\n",
       "      <td>Balkh</td>\n",
       "      <td>1</td>\n",
       "      <td>AF</td>\n",
       "      <td>Afghanistan</td>\n",
       "      <td>BAL</td>\n",
       "      <td>None</td>\n",
       "      <td>36.755060</td>\n",
       "      <td>66.897537</td>\n",
       "    </tr>\n",
       "    <tr>\n",
       "      <th>4</th>\n",
       "      <td>3872</td>\n",
       "      <td>Bamyan</td>\n",
       "      <td>1</td>\n",
       "      <td>AF</td>\n",
       "      <td>Afghanistan</td>\n",
       "      <td>BAM</td>\n",
       "      <td>None</td>\n",
       "      <td>34.810007</td>\n",
       "      <td>67.821210</td>\n",
       "    </tr>\n",
       "    <tr>\n",
       "      <th>...</th>\n",
       "      <td>...</td>\n",
       "      <td>...</td>\n",
       "      <td>...</td>\n",
       "      <td>...</td>\n",
       "      <td>...</td>\n",
       "      <td>...</td>\n",
       "      <td>...</td>\n",
       "      <td>...</td>\n",
       "      <td>...</td>\n",
       "    </tr>\n",
       "    <tr>\n",
       "      <th>5079</th>\n",
       "      <td>1953</td>\n",
       "      <td>Mashonaland West Province</td>\n",
       "      <td>247</td>\n",
       "      <td>ZW</td>\n",
       "      <td>Zimbabwe</td>\n",
       "      <td>MW</td>\n",
       "      <td>None</td>\n",
       "      <td>-17.485103</td>\n",
       "      <td>29.788925</td>\n",
       "    </tr>\n",
       "    <tr>\n",
       "      <th>5080</th>\n",
       "      <td>1960</td>\n",
       "      <td>Masvingo Province</td>\n",
       "      <td>247</td>\n",
       "      <td>ZW</td>\n",
       "      <td>Zimbabwe</td>\n",
       "      <td>MV</td>\n",
       "      <td>None</td>\n",
       "      <td>-20.624151</td>\n",
       "      <td>31.262637</td>\n",
       "    </tr>\n",
       "    <tr>\n",
       "      <th>5081</th>\n",
       "      <td>1954</td>\n",
       "      <td>Matabeleland North Province</td>\n",
       "      <td>247</td>\n",
       "      <td>ZW</td>\n",
       "      <td>Zimbabwe</td>\n",
       "      <td>MN</td>\n",
       "      <td>None</td>\n",
       "      <td>-18.533157</td>\n",
       "      <td>27.549585</td>\n",
       "    </tr>\n",
       "    <tr>\n",
       "      <th>5082</th>\n",
       "      <td>1952</td>\n",
       "      <td>Matabeleland South Province</td>\n",
       "      <td>247</td>\n",
       "      <td>ZW</td>\n",
       "      <td>Zimbabwe</td>\n",
       "      <td>MS</td>\n",
       "      <td>None</td>\n",
       "      <td>-21.052337</td>\n",
       "      <td>29.045993</td>\n",
       "    </tr>\n",
       "    <tr>\n",
       "      <th>5083</th>\n",
       "      <td>1957</td>\n",
       "      <td>Midlands Province</td>\n",
       "      <td>247</td>\n",
       "      <td>ZW</td>\n",
       "      <td>Zimbabwe</td>\n",
       "      <td>MI</td>\n",
       "      <td>None</td>\n",
       "      <td>-19.055201</td>\n",
       "      <td>29.603549</td>\n",
       "    </tr>\n",
       "  </tbody>\n",
       "</table>\n",
       "<p>5084 rows × 9 columns</p>\n",
       "</div>"
      ],
      "text/plain": [
       "        id                         name  country_id country_code country_name  \\\n",
       "0     3901                   Badakhshan           1           AF  Afghanistan   \n",
       "1     3871                      Badghis           1           AF  Afghanistan   \n",
       "2     3875                      Baghlan           1           AF  Afghanistan   \n",
       "3     3884                        Balkh           1           AF  Afghanistan   \n",
       "4     3872                       Bamyan           1           AF  Afghanistan   \n",
       "...    ...                          ...         ...          ...          ...   \n",
       "5079  1953    Mashonaland West Province         247           ZW     Zimbabwe   \n",
       "5080  1960            Masvingo Province         247           ZW     Zimbabwe   \n",
       "5081  1954  Matabeleland North Province         247           ZW     Zimbabwe   \n",
       "5082  1952  Matabeleland South Province         247           ZW     Zimbabwe   \n",
       "5083  1957            Midlands Province         247           ZW     Zimbabwe   \n",
       "\n",
       "     state_code  type   latitude  longitude  \n",
       "0           BDS  None  36.734772  70.811995  \n",
       "1           BDG  None  35.167134  63.769538  \n",
       "2           BGL  None  36.178903  68.745306  \n",
       "3           BAL  None  36.755060  66.897537  \n",
       "4           BAM  None  34.810007  67.821210  \n",
       "...         ...   ...        ...        ...  \n",
       "5079         MW  None -17.485103  29.788925  \n",
       "5080         MV  None -20.624151  31.262637  \n",
       "5081         MN  None -18.533157  27.549585  \n",
       "5082         MS  None -21.052337  29.045993  \n",
       "5083         MI  None -19.055201  29.603549  \n",
       "\n",
       "[5084 rows x 9 columns]"
      ]
     },
     "execution_count": 9,
     "metadata": {},
     "output_type": "execute_result"
    }
   ],
   "source": [
    "class State(RegionModel):\n",
    "    pass\n",
    "\n",
    "df_states"
   ]
  },
  {
   "cell_type": "code",
   "execution_count": null,
   "metadata": {},
   "outputs": [],
   "source": [
    "class County(RegionModel):\n",
    "    pass\n",
    "\n",
    "class Place(RegionModel):\n",
    "    pass\n",
    "\n",
    "\n",
    "\n",
    "\n"
   ]
  },
  {
   "cell_type": "code",
   "execution_count": null,
   "metadata": {},
   "outputs": [],
   "source": [
    "countries"
   ]
  },
  {
   "cell_type": "code",
   "execution_count": null,
   "metadata": {},
   "outputs": [],
   "source": []
  },
  {
   "cell_type": "code",
   "execution_count": null,
   "metadata": {},
   "outputs": [],
   "source": []
  },
  {
   "cell_type": "code",
   "execution_count": null,
   "metadata": {},
   "outputs": [],
   "source": []
  },
  {
   "cell_type": "code",
   "execution_count": null,
   "metadata": {},
   "outputs": [],
   "source": []
  },
  {
   "cell_type": "code",
   "execution_count": null,
   "metadata": {},
   "outputs": [],
   "source": []
  },
  {
   "cell_type": "markdown",
   "metadata": {},
   "source": [
    "### API CSC"
   ]
  },
  {
   "cell_type": "code",
   "execution_count": null,
   "metadata": {},
   "outputs": [],
   "source": [
    "from dotenv import load_dotenv\n",
    "import os\n",
    "\n",
    "load_dotenv()\n",
    "\n",
    "headers = {\"X-CSCAPI-KEY\": os.getenv(\"API_KEY_CSC\")}\n",
    "response = requests.get(\"https://api.countrystatecity.in/v1/countries\", headers=headers)"
   ]
  },
  {
   "cell_type": "code",
   "execution_count": null,
   "metadata": {},
   "outputs": [],
   "source": [
    "def url_countries_details(iso2: str) -> str:\n",
    "    return f\"https://api.countrystatecity.in/v1/countries/{iso2}\"\n",
    "\n",
    "response_ar = requests.get(url_countries_details(\"AR\"), headers=headers)"
   ]
  },
  {
   "cell_type": "code",
   "execution_count": null,
   "metadata": {},
   "outputs": [],
   "source": [
    "response_ar.json()"
   ]
  },
  {
   "cell_type": "code",
   "execution_count": null,
   "metadata": {},
   "outputs": [],
   "source": [
    "df_states"
   ]
  },
  {
   "cell_type": "code",
   "execution_count": null,
   "metadata": {},
   "outputs": [],
   "source": [
    "countries"
   ]
  },
  {
   "cell_type": "code",
   "execution_count": null,
   "metadata": {},
   "outputs": [],
   "source": [
    "dfs[\"cities\"].isnull().sum()"
   ]
  },
  {
   "cell_type": "code",
   "execution_count": null,
   "metadata": {},
   "outputs": [],
   "source": [
    "dfs.keys()"
   ]
  },
  {
   "cell_type": "code",
   "execution_count": null,
   "metadata": {},
   "outputs": [],
   "source": [
    "display(dfs[\"countries\"].head(3))\n",
    "display(dfs[\"states\"].head(3))\n",
    "display(dfs[\"cities\"].head(3))\n"
   ]
  }
 ],
 "metadata": {
  "kernelspec": {
   "display_name": "env",
   "language": "python",
   "name": "python3"
  },
  "language_info": {
   "codemirror_mode": {
    "name": "ipython",
    "version": 3
   },
   "file_extension": ".py",
   "mimetype": "text/x-python",
   "name": "python",
   "nbconvert_exporter": "python",
   "pygments_lexer": "ipython3",
   "version": "3.11.7"
  }
 },
 "nbformat": 4,
 "nbformat_minor": 2
}
