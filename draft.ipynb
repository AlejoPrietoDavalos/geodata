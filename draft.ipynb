{
 "cells": [
  {
   "cell_type": "code",
   "execution_count": null,
   "metadata": {},
   "outputs": [],
   "source": [
    "from geodata.db.client import WorldDataDB\n",
    "db = WorldDataDB()\n"
   ]
  },
  {
   "cell_type": "code",
   "execution_count": null,
   "metadata": {},
   "outputs": [],
   "source": [
    "import pandas as pd\n",
    "df_countries = pd.DataFrame(list(db.countries.coll.find()))\n",
    "df_states = pd.DataFrame(list(db.states.coll.find()))\n",
    "df_cities = pd.DataFrame(list(db.cities.coll.find()))"
   ]
  },
  {
   "cell_type": "code",
   "execution_count": null,
   "metadata": {},
   "outputs": [],
   "source": [
    "cols_countries = [\n",
    "    \"created_time\", \"updated_time\", \"country_code\", \"country_id_csc\",\n",
    "    \"latitude\", \"longitude\", \"region_id_csc\", \"country_name\", \"country_name_native\",\n",
    "    \"country_name_english\", \"phone_code\", \"country_id_wikidata\", \"status\"\n",
    "]\n",
    "cols_states = [\n",
    "    \"created_time\", \"updated_time\", \"country_code\", \"country_id_csc\", \"latitude\", \"longitude\",\n",
    "    \"state_id_csc\", \"state_name\", \"state_name_native\", \"state_name_english\", \"state_code\", \"state_type_csc\",\n",
    "    \"state_id_wikidata\", \"status\"\n",
    "]\n",
    "cols_cities = [\n",
    "    \"created_time\", \"updated_time\", \"country_code\", \"country_id_csc\", \"latitude\", \"longitude\",\n",
    "    \"city_id_csc\", \"state_id_csc\", \"city_name\", \"city_name_native\", \"city_name_english\", \"state_code\",\n",
    "    \"city_id_wikidata\", \"status\"\n",
    "]\n"
   ]
  },
  {
   "cell_type": "code",
   "execution_count": null,
   "metadata": {},
   "outputs": [],
   "source": [
    "import random\n",
    "display(f\"---------- Countries (Total data: {len(df_countries)}) ----------\")\n",
    "display(df_countries[cols_countries].loc[random.choices(df_countries.index.tolist(), k=3)].head(3))\n",
    "\n",
    "display(f\"---------- States (Total data: {len(df_states)}) ----------\")\n",
    "display(df_states[cols_states].loc[random.choices(df_states.index.tolist(), k=3)].head(3))\n",
    "\n",
    "display(f\"---------- Cities (Total data: {len(df_cities)}) ----------\")\n",
    "display(df_cities[cols_cities].loc[random.choices(df_cities.index.tolist(), k=3)].head(3))"
   ]
  },
  {
   "cell_type": "code",
   "execution_count": null,
   "metadata": {},
   "outputs": [],
   "source": [
    "from datetime import datetime\n",
    "import json\n",
    "\n",
    "def default_serializer(obj):\n",
    "    if isinstance(obj, datetime):\n",
    "        return obj.isoformat()\n",
    "    raise TypeError(f\"Type {type(obj)} not serializable\")\n",
    "\n",
    "with open(\"data/countries.json\", \"w\") as f:\n",
    "    countries = []\n",
    "    for doc_country in db.countries.coll.find():\n",
    "        doc_country.pop(\"_id\")\n",
    "        countries.append(doc_country)\n",
    "    json.dump({\"countries\": countries}, f, default=default_serializer)\n",
    "\n",
    "with open(\"data/states.json\", \"w\") as f:\n",
    "    states = []\n",
    "    for doc_state in db.states.coll.find():\n",
    "        doc_state.pop(\"_id\")\n",
    "        states.append(doc_state)\n",
    "    json.dump({\"states\": states}, f, default=default_serializer)\n",
    "\n",
    "with open(\"data/cities.json\", \"w\") as f:\n",
    "    cities = []\n",
    "    for doc_city in db.cities.coll.find():\n",
    "        doc_city.pop(\"_id\")\n",
    "        cities.append(doc_city)\n",
    "    json.dump({\"cities\": cities}, f, default=default_serializer)"
   ]
  },
  {
   "cell_type": "code",
   "execution_count": null,
   "metadata": {},
   "outputs": [],
   "source": [
    "import geopandas as gpd\n",
    "gdf_countries = gpd.GeoDataFrame(geometry=gpd.points_from_xy(df_countries[\"longitude\"], df_countries[\"latitude\"]), crs=4326)\n",
    "gdf_states = gpd.GeoDataFrame(geometry=gpd.points_from_xy(df_states[\"longitude\"], df_states[\"latitude\"]), crs=4326)\n",
    "gdf_cities = gpd.GeoDataFrame(geometry=gpd.points_from_xy(df_cities[\"longitude\"], df_cities[\"latitude\"]), crs=4326)"
   ]
  },
  {
   "cell_type": "code",
   "execution_count": null,
   "metadata": {},
   "outputs": [],
   "source": [
    "gdf_countries.to_file(\"data/countries.geojson\", driver=\"GeoJSON\")\n",
    "gdf_states.to_file(\"data/states.geojson\", driver=\"GeoJSON\")\n",
    "gdf_cities.to_file(\"data/cities.geojson\", driver=\"GeoJSON\")"
   ]
  }
 ],
 "metadata": {
  "kernelspec": {
   "display_name": "env",
   "language": "python",
   "name": "python3"
  },
  "language_info": {
   "codemirror_mode": {
    "name": "ipython",
    "version": 3
   },
   "file_extension": ".py",
   "mimetype": "text/x-python",
   "name": "python",
   "nbconvert_exporter": "python",
   "pygments_lexer": "ipython3",
   "version": "3.12.3"
  }
 },
 "nbformat": 4,
 "nbformat_minor": 2
}
