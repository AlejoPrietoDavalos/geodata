{
 "cells": [
  {
   "cell_type": "code",
   "execution_count": 11,
   "metadata": {},
   "outputs": [],
   "source": [
    "from SPARQLWrapper import SPARQLWrapper, JSON\n",
    "from typing import Optional, Tuple, List\n",
    "\n",
    "from pymongo import MongoClient\n",
    "\n",
    "from geodata.db.client import WorldDataDB\n",
    "from geodata.wikidata.sparql import results_from_query\n",
    "from geodata.db.models.state import State\n",
    "from geodata.db.models.city import City"
   ]
  },
  {
   "cell_type": "code",
   "execution_count": 12,
   "metadata": {},
   "outputs": [],
   "source": [
    "db = WorldDataDB()"
   ]
  },
  {
   "cell_type": "code",
   "execution_count": 16,
   "metadata": {},
   "outputs": [
    {
     "name": "stdout",
     "output_type": "stream",
     "text": [
      "[]\n"
     ]
    },
    {
     "data": {
      "text/plain": [
       "{'created_time': datetime.datetime(2024, 3, 10, 19, 55, 35, 110000),\n",
       " 'updated_time': datetime.datetime(2024, 3, 10, 19, 55, 35, 110000),\n",
       " 'country_code': 'DE',\n",
       " 'country_id_csc': 82,\n",
       " 'latitude': 53.6126505,\n",
       " 'longitude': 12.4295953,\n",
       " 'postal_codes_wikidata': [],\n",
       " 'websites_wikidata': [],\n",
       " 'state_id_csc': 3007,\n",
       " 'state_name': 'Mecklenburg-Vorpommern',\n",
       " 'state_code': 'MV',\n",
       " 'state_type_csc': None,\n",
       " 'state_id_wikidata': None}"
      ]
     },
     "execution_count": 16,
     "metadata": {},
     "output_type": "execute_result"
    }
   ],
   "source": [
    "def fuzzy_search_wikidata(query_term: str, country_code: str) -> List[Tuple[str, str]]:\n",
    "    sparql = SPARQLWrapper(\"https://query.wikidata.org/sparql\")\n",
    "    sparql.setQuery(f\"\"\"\n",
    "        SELECT ?place ?placeLabel WHERE {{\n",
    "            ?place wdt:P31/wdt:P279* wd:Q10864048;\n",
    "                rdfs:label ?placeLabel;\n",
    "                wdt:P17 ?country. # Country of the place.\n",
    "            ?country wdt:P297 \"{country_code}\".\n",
    "            FILTER(CONTAINS(LCASE(?placeLabel), \"{query_term}\")).\n",
    "            SERVICE wikibase:label {{ bd:serviceParam wikibase:language \"[AUTO_LANGUAGE],en\". }}\n",
    "        }}\n",
    "    \"\"\")\n",
    "    sparql.setReturnFormat(JSON)\n",
    "    \n",
    "    try:\n",
    "        results = sparql.query().convert()\n",
    "        bindings = results[\"results\"][\"bindings\"]\n",
    "        fuzzy_results = [(binding[\"place\"][\"value\"].split('/')[-1], binding[\"placeLabel\"][\"value\"]) for binding in bindings]\n",
    "        return fuzzy_results\n",
    "    except Exception as e:\n",
    "        print(f\"Error during SPARQL query: {e}\")\n",
    "        return []\n",
    "\n",
    "\n",
    "state = State(**db.states.coll.find_one({\"state_id_csc\": 3007}))\n",
    "r = fuzzy_search_wikidata(state.state_name, state.country_code)\n",
    "print(r)\n",
    "state.model_dump()"
   ]
  },
  {
   "cell_type": "code",
   "execution_count": null,
   "metadata": {},
   "outputs": [],
   "source": [
    "def get_native_name_from_wikidata(id_wikidata: str) -> Optional[str]:\n",
    "    query = f\"\"\"\n",
    "        SELECT ?placeNativeLabel WHERE {{\n",
    "            wd:{id_wikidata} wdt:P1448 ?placeNativeLabel.\n",
    "            SERVICE wikibase:label {{ bd:serviceParam wikibase:language \"[AUTO_LANGUAGE],en,native\". }}\n",
    "        }}\n",
    "    \"\"\"\n",
    "\n",
    "    results = results_from_query(query)\n",
    "    bindings = results[\"results\"][\"bindings\"]\n",
    "\n",
    "    if len(bindings) > 0 and \"placeNativeLabel\" in bindings[0]:\n",
    "        return bindings[0][\"placeNativeLabel\"][\"value\"]\n",
    "    else:\n",
    "        return None\n",
    "\n",
    "results = []\n",
    "for state_doc in db.states.coll.find({}):\n",
    "    state = State(**state_doc)\n",
    "    name = get_native_name_from_wikidata(state.id_wikidata)\n",
    "    \n",
    "    if name is not None:\n",
    "        display(name)\n",
    "        display(state.model_dump())\n",
    "        results.append((state, name))"
   ]
  },
  {
   "cell_type": "code",
   "execution_count": null,
   "metadata": {},
   "outputs": [],
   "source": []
  }
 ],
 "metadata": {
  "kernelspec": {
   "display_name": "env",
   "language": "python",
   "name": "python3"
  },
  "language_info": {
   "codemirror_mode": {
    "name": "ipython",
    "version": 3
   },
   "file_extension": ".py",
   "mimetype": "text/x-python",
   "name": "python",
   "nbconvert_exporter": "python",
   "pygments_lexer": "ipython3",
   "version": "3.12.3"
  }
 },
 "nbformat": 4,
 "nbformat_minor": 2
}
