{
 "cells": [
  {
   "cell_type": "code",
   "execution_count": 1,
   "metadata": {},
   "outputs": [],
   "source": [
    "from geodata.db.client import WorldDataDB\n",
    "from geodata.db.models.country import Country\n",
    "from geodata.db.models.state import State\n",
    "from geodata.db.models.city import City"
   ]
  },
  {
   "cell_type": "code",
   "execution_count": 2,
   "metadata": {},
   "outputs": [],
   "source": [
    "from geodata.wikidata.sparql import results_from_query\n",
    "from geodata.wikidata.querys import query_country_id_wikidata"
   ]
  },
  {
   "cell_type": "code",
   "execution_count": 3,
   "metadata": {},
   "outputs": [
    {
     "data": {
      "text/plain": [
       "['countries', 'states', 'cities']"
      ]
     },
     "execution_count": 3,
     "metadata": {},
     "output_type": "execute_result"
    }
   ],
   "source": [
    "def reset_collections(db: WorldDataDB) -> None:\n",
    "    db.db.drop_collection('states')\n",
    "    db.db.drop_collection('cities')\n",
    "    db.db.drop_collection('countries')\n",
    "    db.set_unique_keys()\n",
    "\n",
    "db = WorldDataDB()\n",
    "#reset_collections(db)\n",
    "db.db.list_collection_names()"
   ]
  },
  {
   "cell_type": "code",
   "execution_count": 4,
   "metadata": {},
   "outputs": [
    {
     "data": {
      "text/plain": [
       "{'_id': ObjectId('65ff06dc64eabd9f7a4b5eae'),\n",
       " 'created_time': datetime.datetime(2024, 3, 23, 16, 44, 12, 583000),\n",
       " 'updated_time': datetime.datetime(2024, 3, 23, 16, 44, 12, 583000),\n",
       " 'country_code': 'AF',\n",
       " 'country_id_csc': 1,\n",
       " 'latitude': 36.68333,\n",
       " 'longitude': 71.53333,\n",
       " 'postal_codes_wikidata': [],\n",
       " 'websites_wikidata': [],\n",
       " 'city_id_csc': 52,\n",
       " 'state_id_csc': 3901,\n",
       " 'city_name': 'Ashkāsham',\n",
       " 'city_name_native': None,\n",
       " 'city_name_english': None,\n",
       " 'state_code': 'BDS',\n",
       " 'city_id_wikidata': 'Q4805192',\n",
       " 'postal_codes_wikipedia': [],\n",
       " 'postal_codes_wikipedia_clean': []}"
      ]
     },
     "execution_count": 4,
     "metadata": {},
     "output_type": "execute_result"
    }
   ],
   "source": [
    "db.cities.coll.find_one()"
   ]
  },
  {
   "cell_type": "code",
   "execution_count": 10,
   "metadata": {},
   "outputs": [
    {
     "data": {
      "text/plain": [
       "{'_id': ObjectId('65ff06eb64eabd9f7a4bf270'),\n",
       " 'created_time': datetime.datetime(2024, 3, 23, 16, 44, 27, 736000),\n",
       " 'updated_time': datetime.datetime(2024, 4, 8, 2, 42, 12, 326000),\n",
       " 'country_code': 'DE',\n",
       " 'country_id_csc': 82,\n",
       " 'latitude': 50.56109,\n",
       " 'longitude': 8.50495,\n",
       " 'postal_codes_wikidata': ['35521', '35576', '35586'],\n",
       " 'websites_wikidata': ['https://www.wetzlar.de/'],\n",
       " 'city_id_csc': 30230,\n",
       " 'state_id_csc': 3018,\n",
       " 'city_name': 'Wetzlar',\n",
       " 'city_name_native': 'Wetzlar',\n",
       " 'city_name_english': 'Wetzlar',\n",
       " 'state_code': 'HE',\n",
       " 'city_id_wikidata': 'Q4178',\n",
       " 'postal_codes_wikipedia': ['35576-35586'],\n",
       " 'postal_codes_wikipedia_clean': ['35576',\n",
       "  '35577',\n",
       "  '35578',\n",
       "  '35579',\n",
       "  '35580',\n",
       "  '35581',\n",
       "  '35582',\n",
       "  '35583',\n",
       "  '35584',\n",
       "  '35585',\n",
       "  '35586']}"
      ]
     },
     "execution_count": 10,
     "metadata": {},
     "output_type": "execute_result"
    }
   ],
   "source": [
    "db.cities.coll.find_one({\"city_name_native\": \"Wetzlar\"})"
   ]
  },
  {
   "cell_type": "code",
   "execution_count": 31,
   "metadata": {},
   "outputs": [
    {
     "data": {
      "text/plain": [
       "[]"
      ]
     },
     "execution_count": 31,
     "metadata": {},
     "output_type": "execute_result"
    }
   ],
   "source": [
    "from SPARQLWrapper import SPARQLWrapper, JSON\n",
    "from geodata.wikidata.sparql import random_user_agent\n",
    "\n",
    "def obtener_id_municipios(id_ciudad_wikidata):\n",
    "    endpoint_url = \"https://query.wikidata.org/sparql\"\n",
    "    sparql = SPARQLWrapper(endpoint_url)\n",
    "\n",
    "    # Consulta SPARQL para obtener los municipios de la ciudad\n",
    "    consulta = \"\"\"\n",
    "    SELECT ?municipio ?municipioLabel WHERE {\n",
    "      ?municipio wdt:P31/wdt:P279* wd:Q15284;  # Municipio\n",
    "                 wdt:P131 wd:\"\"\" + id_ciudad_wikidata + \"\"\".  # Ciudad\n",
    "      SERVICE wikibase:label { bd:serviceParam wikibase:language \"[AUTO_LANGUAGE],en\". }\n",
    "    }\n",
    "    \"\"\"\n",
    "    \n",
    "    sparql.setQuery(consulta)\n",
    "    sparql.setReturnFormat(JSON)\n",
    "    sparql.addCustomHttpHeader(\"User-Agent\", random_user_agent())\n",
    "    resultados = sparql.query().convert()\n",
    "\n",
    "    id_municipios = []\n",
    "    for resultado in resultados[\"results\"][\"bindings\"]:\n",
    "        id_municipio = resultado[\"municipio\"][\"value\"].split(\"/\")[-1]\n",
    "        id_municipios.append(id_municipio)\n",
    "\n",
    "    return id_municipios\n",
    "\n",
    "def obtener_coordenadas_municipio(id_municipio_wikidata):\n",
    "    endpoint_url = \"https://query.wikidata.org/sparql\"\n",
    "    sparql = SPARQLWrapper(endpoint_url)\n",
    "\n",
    "    # Consulta SPARQL para obtener las coordenadas del municipio\n",
    "    consulta = \"\"\"\n",
    "    SELECT ?coordenadas WHERE {\n",
    "      wd:\"\"\" + id_municipio_wikidata + \"\"\" wdt:P625 ?coordenadas.  # Coordenadas geográficas\n",
    "    }\n",
    "    \"\"\"\n",
    "    \n",
    "    sparql.setQuery(consulta)\n",
    "    sparql.setReturnFormat(JSON)\n",
    "    resultados = sparql.query().convert()\n",
    "\n",
    "    coordenadas = []\n",
    "    for resultado in resultados[\"results\"][\"bindings\"]:\n",
    "        coordenadas_str = resultado.get(\"coordenadas\", {}).get(\"value\", \"\")\n",
    "        # Las coordenadas se presentan en formato \"Point(latitude, longitude)\"\n",
    "        # Parseamos las coordenadas para obtener la latitud y longitud por separado\n",
    "        if coordenadas_str:\n",
    "            latitud, longitud = map(float, coordenadas_str.split(\"(\")[1].split(\")\")[0].split())\n",
    "            coordenadas.append({\"latitud\": latitud, \"longitud\": longitud})\n",
    "\n",
    "    return coordenadas\n",
    "\n",
    "#for model in db.cities.iter_models():\n",
    "#    if model.id_wikidata is not None:\n",
    "#        id_municipios = obtener_id_municipios(model.id_wikidata)\n",
    "#        for id_municipio in id_municipios:\n",
    "#            coords = obtener_coordenadas_municipio(id_municipio)\n",
    "#            print(\"Coords del municipio:\", coords)\n",
    "#            print(model.name)\n",
    "#            print(model.id_wikidata)\n",
    "#            print(\"-\"*40)\n",
    "#    print(model.name)\n",
    "\n",
    "[obtener_coordenadas_municipio(id_municipio) for id_municipio in obtener_id_municipios(\"Q4178\")]"
   ]
  },
  {
   "cell_type": "code",
   "execution_count": 2,
   "metadata": {},
   "outputs": [],
   "source": [
    "from SPARQLWrapper import SPARQLWrapper, JSON\n",
    "\n",
    "def get_municipality_data(city_id):\n",
    "    # Configurar el punto de acceso SPARQL de DBpedia\n",
    "    sparql = SPARQLWrapper(\"http://dbpedia.org/sparql\")\n",
    "\n",
    "    # Definir la consulta SPARQL\n",
    "    query = \"\"\"\n",
    "    PREFIX dbpedia-owl: <http://dbpedia.org/ontology/>\n",
    "    PREFIX dbpprop: <http://dbpedia.org/property/>\n",
    "\n",
    "    SELECT ?municipality ?street ?postalCode\n",
    "    WHERE {\n",
    "      ?municipality a dbpedia-owl:CityHall;\n",
    "                    dbpprop:city ?city;\n",
    "                    dbpprop:postalCode ?postalCode;\n",
    "                    dbpprop:address ?street.\n",
    "      ?city dbpprop:wikidata ?city_id.\n",
    "      FILTER (?city_id = '%s')\n",
    "    }\n",
    "    \"\"\" % city_id\n",
    "\n",
    "    # Asignar la consulta SPARQL\n",
    "    sparql.setQuery(query)\n",
    "\n",
    "    # Establecer el formato de salida como JSON\n",
    "    sparql.setReturnFormat(JSON)\n",
    "\n",
    "    # Ejecutar la consulta y obtener los resultados\n",
    "    results = sparql.query().convert()\n",
    "\n",
    "    # Procesar los resultados\n",
    "    if results and 'results' in results and 'bindings' in results['results']:\n",
    "        for result in results['results']['bindings']:\n",
    "            municipality = result['municipality']['value']\n",
    "            street = result['street']['value']\n",
    "            postal_code = result['postalCode']['value']\n",
    "            print(\"Municipality:\", municipality)\n",
    "            print(\"Street:\", street)\n",
    "            print(\"Postal Code:\", postal_code)\n",
    "    else:\n",
    "        print(\"No se encontraron resultados.\")\n",
    "\n",
    "city_id = \"Q4178\"\n",
    "\n",
    "# Llamar a la función para obtener los datos de la municipalidad\n",
    "get_municipality_data(city_id)\n"
   ]
  },
  {
   "cell_type": "code",
   "execution_count": null,
   "metadata": {},
   "outputs": [],
   "source": []
  },
  {
   "cell_type": "code",
   "execution_count": null,
   "metadata": {},
   "outputs": [],
   "source": []
  },
  {
   "cell_type": "code",
   "execution_count": null,
   "metadata": {},
   "outputs": [],
   "source": []
  },
  {
   "cell_type": "code",
   "execution_count": null,
   "metadata": {},
   "outputs": [],
   "source": []
  },
  {
   "cell_type": "code",
   "execution_count": 21,
   "metadata": {},
   "outputs": [
    {
     "name": "stdout",
     "output_type": "stream",
     "text": [
      "Municipality ID: Q183\n",
      "Municipality Label: Germany\n",
      "location_info: [('Q15979678', 'University Library of Erlangen-Nürnberg', 'Universitätsstraße 4, 91054 Erlangen'), ('Q870977', \"National Council of German Women's Organizations\", 'Axel-Springer-Str. 54a, 10117 Berlin'), ('Q41291745', 'Feldkapelle', 'Ca. 1 km nordwestlich der  Wallfahrtskirche, an der Straße zur Hohen Warte'), ('Q55980072', 'Q55980072', 'Martin-Luther-Straße 12, 66111 Saarbrücken'), ('Q101237103', 'Q101237103', 'Ulmenstraße 69, Haus 4, 18057 Rostock'), ('Q125236151', 'U.10 Makerspace', 'Willy-Brandt-Ring 11, 67547 Worms')]\n"
     ]
    }
   ],
   "source": [
    "from SPARQLWrapper import SPARQLWrapper, JSON\n",
    "\n",
    "def get_municipality_id(city_id):\n",
    "    # Set up the SPARQL endpoint\n",
    "    sparql = SPARQLWrapper(\"https://query.wikidata.org/sparql\")\n",
    "\n",
    "    # Define the SPARQL query\n",
    "    query = \"\"\"\n",
    "    SELECT ?municipality ?municipalityLabel WHERE {\n",
    "      wd:\"\"\" + city_id + \"\"\" wdt:P131 ?municipality.\n",
    "      SERVICE wikibase:label { bd:serviceParam wikibase:language \"[AUTO_LANGUAGE],en\". }\n",
    "    }\n",
    "    \"\"\"\n",
    "\n",
    "    # Set the query and response format\n",
    "    sparql.setQuery(query)\n",
    "    sparql.setReturnFormat(JSON)\n",
    "\n",
    "    # Execute the query and process the results\n",
    "    results = sparql.query().convert()\n",
    "    \n",
    "    # Extract municipality ID and label from the results\n",
    "    if 'results' in results and 'bindings' in results['results']:\n",
    "        bindings = results['results']['bindings']\n",
    "        if len(bindings) > 0:\n",
    "            municipality_id = bindings[0]['municipality']['value'].split('/')[-1]\n",
    "            municipality_label = bindings[0]['municipalityLabel']['value']\n",
    "            return municipality_id, municipality_label\n",
    "\n",
    "    return None, None\n",
    "\n",
    "def get_location_info(municipality_id):\n",
    "    # Set up the SPARQL endpoint\n",
    "    sparql = SPARQLWrapper(\"https://query.wikidata.org/sparql\")\n",
    "\n",
    "    # Define the SPARQL query\n",
    "    query = \"\"\"\n",
    "    SELECT ?street ?streetLabel ?address WHERE {\n",
    "      ?street wdt:P131 wd:\"\"\" + municipality_id + \"\"\".\n",
    "      ?street wdt:P6375 ?address.\n",
    "      SERVICE wikibase:label { bd:serviceParam wikibase:language \"[AUTO_LANGUAGE],en\". }\n",
    "    }\n",
    "    \"\"\"\n",
    "\n",
    "    # Set the query and response format\n",
    "    sparql.setQuery(query)\n",
    "    sparql.setReturnFormat(JSON)\n",
    "\n",
    "    # Execute the query and process the results\n",
    "    results = sparql.query().convert()\n",
    "\n",
    "    # Extract location information from the results\n",
    "    location_info = []\n",
    "    if 'results' in results and 'bindings' in results['results']:\n",
    "        bindings = results['results']['bindings']\n",
    "        for binding in bindings:\n",
    "            street_id = binding['street']['value'].split('/')[-1]\n",
    "            street_label = binding['streetLabel']['value']\n",
    "            address = binding['address']['value']\n",
    "            location_info.append((street_id, street_label, address))\n",
    "\n",
    "    return location_info\n",
    "\n",
    "\n",
    "city_id = \"Q64\"#\"Q4178\"\n",
    "municipality_id, municipality_label = get_municipality_id(city_id)\n",
    "location_info = get_location_info(municipality_id)\n",
    "if municipality_id:\n",
    "    print(\"Municipality ID:\", municipality_id)\n",
    "    print(\"Municipality Label:\", municipality_label)\n",
    "    print(\"location_info:\", location_info)\n",
    "else:\n",
    "    print(\"Municipality not found.\")\n"
   ]
  },
  {
   "cell_type": "code",
   "execution_count": null,
   "metadata": {},
   "outputs": [],
   "source": []
  },
  {
   "cell_type": "code",
   "execution_count": null,
   "metadata": {},
   "outputs": [],
   "source": [
    "def query_street_and_number(id_wikidata: str, name: str) -> str | None:\n",
    "    query = f\"\"\"\n",
    "        SELECT ?direccion WHERE {{\n",
    "        wd:{id_wikidata} wdt:P6375 ?direccion.\n",
    "        }}\n",
    "        \"\"\"\n",
    "    results = results_from_query(query=query)\n",
    "    if len(results[\"results\"][\"bindings\"]) > 0:\n",
    "        street = results[\"results\"][\"bindings\"][0][\"street\"][\"value\"]\n",
    "        number = results[\"results\"][\"bindings\"][0][\"number\"][\"value\"] if \"number\" in results[\"results\"][\"bindings\"][0] else None\n",
    "        return f\"{street} {number}\", name if number else street, name\n",
    "    else:\n",
    "        return None, name\n",
    "\n",
    "from concurrent.futures import ThreadPoolExecutor, as_completed\n",
    "\n",
    "with ThreadPoolExecutor(max_workers=5) as pool:\n",
    "    iter_futures = (pool.submit(query_street_and_number, model.id_wikidata, model.name) \\\n",
    "                    for model in db.cities.iter_models() if model.id_wikidata is not None)\n",
    "    for future in as_completed(iter_futures):\n",
    "        r, name = future.result()\n",
    "        print(f\"r={r} | name={name}\")\n",
    "\n",
    "#for model in db.cities.iter_models():\n",
    "#    if model.id_wikidata is not None:\n",
    "#        print(f\"{model.name} | address={query_municipality_address(model.id_wikidata)}\")\n",
    "#query_street_and_number(\"Q1486\")"
   ]
  },
  {
   "cell_type": "markdown",
   "metadata": {},
   "source": [
    "### wikipedia by wikidata_id"
   ]
  },
  {
   "cell_type": "code",
   "execution_count": null,
   "metadata": {},
   "outputs": [],
   "source": [
    "from geodata.wikipedia.postal_wikipedia import get_postal_codes_from_wikipedia\n",
    "'''\n",
    "for state in db.states.iter_models():\n",
    "    if state.id_wikidata is not None:\n",
    "        display(state.model_dump())\n",
    "        #wikidata_id = \"Q4178\"\n",
    "        display(get_postal_codes_from_wikipedia(state.id_wikidata))\n",
    "        print(\"-\"*40)\n",
    "'''\n",
    "get_postal_codes_from_wikipedia(\"Q692390\", verbose=True)"
   ]
  },
  {
   "cell_type": "code",
   "execution_count": null,
   "metadata": {},
   "outputs": [],
   "source": [
    "\n",
    "\n",
    "\n",
    "\n",
    "# Ejemplo de uso\n",
    "content = \"\"\"\n",
    "    This is some text.\n",
    "    |postal_code = 12345 Some text here\n",
    "    Another line with |Postal_Code= 54321\n",
    "    |zipcode=67890\n",
    "    And another line without postal code\n",
    "\"\"\"\n",
    "\n",
    "postal_code_lines = extract_postal_code_lines(content)\n",
    "print(\"Líneas con códigos postales:\", postal_code_lines)\n"
   ]
  },
  {
   "cell_type": "markdown",
   "metadata": {},
   "source": [
    "### Search by title wikipedia (dangerous)"
   ]
  },
  {
   "cell_type": "code",
   "execution_count": null,
   "metadata": {},
   "outputs": [],
   "source": [
    "import requests\n",
    "\n",
    "def get_wikidata_id_from_wikipedia(title):\n",
    "    base_url = \"https://en.wikipedia.org/w/api.php\"\n",
    "    params = {\n",
    "        \"action\": \"query\",\n",
    "        \"format\": \"json\",\n",
    "        \"prop\": \"pageprops\",\n",
    "        \"titles\": title,\n",
    "        \"formatversion\": 2,\n",
    "        \"redirects\": True\n",
    "    }\n",
    "    response = requests.get(base_url, params=params)\n",
    "    data = response.json()\n",
    "    \n",
    "    if \"query\" in data and \"pages\" in data[\"query\"]:\n",
    "        page = data[\"query\"][\"pages\"][0]\n",
    "        if \"pageprops\" in page and \"wikibase_item\" in page[\"pageprops\"]:\n",
    "            return page[\"pageprops\"][\"wikibase_item\"]\n",
    "    return None\n",
    "\n",
    "\n",
    "article_title = \"Mecklenburg-Vorpommern\"#\"Mecklenburg-Vorpommern\"\n",
    "wid = get_wikidata_id_from_wikipedia(article_title)\n",
    "print(\"ID de Wikidata:\", wid)"
   ]
  }
 ],
 "metadata": {
  "kernelspec": {
   "display_name": "env",
   "language": "python",
   "name": "python3"
  },
  "language_info": {
   "codemirror_mode": {
    "name": "ipython",
    "version": 3
   },
   "file_extension": ".py",
   "mimetype": "text/x-python",
   "name": "python",
   "nbconvert_exporter": "python",
   "pygments_lexer": "ipython3",
   "version": "3.12.3"
  }
 },
 "nbformat": 4,
 "nbformat_minor": 2
}
