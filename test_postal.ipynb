{
 "cells": [
  {
   "cell_type": "code",
   "execution_count": 1,
   "metadata": {},
   "outputs": [],
   "source": [
    "from geodata.db.client import WorldDataDB\n",
    "from geodata.db.models.state import State\n",
    "from geodata.db.models.city import City\n",
    "\n",
    "db = WorldDataDB()\n",
    "COUNTRY_CODE = \"DE\""
   ]
  },
  {
   "cell_type": "code",
   "execution_count": 2,
   "metadata": {},
   "outputs": [
    {
     "data": {
      "text/plain": [
       "1"
      ]
     },
     "execution_count": 2,
     "metadata": {},
     "output_type": "execute_result"
    }
   ],
   "source": [
    "states = []\n",
    "for state_doc in db.states.coll.find({\"country_code\": COUNTRY_CODE}):\n",
    "    state = State(**state_doc)\n",
    "    if len(state.postal_codes_wikipedia) != 0:\n",
    "        states.append(state)\n",
    "len(states)"
   ]
  },
  {
   "cell_type": "code",
   "execution_count": 3,
   "metadata": {},
   "outputs": [
    {
     "data": {
      "text/plain": [
       "6218"
      ]
     },
     "execution_count": 3,
     "metadata": {},
     "output_type": "execute_result"
    }
   ],
   "source": [
    "cities = []\n",
    "for city_doc in db.cities.coll.find({\"country_code\": COUNTRY_CODE}):\n",
    "    city = City(**city_doc)\n",
    "    if len(city.postal_codes_wikipedia) != 0:\n",
    "        cities.append(city)\n",
    "len(cities)"
   ]
  },
  {
   "cell_type": "code",
   "execution_count": null,
   "metadata": {},
   "outputs": [],
   "source": [
    "\n",
    "#from geodata.wikipedia.process_postals.common import find_nums_exactly_digits\n",
    "import re\n",
    "\n",
    "def find_nums_exactly_digits(text: str, n_digits: int) -> list:\n",
    "    return re.findall(r'\\b(?<!\\d)(\\d{%d})(?:\\s|,|;|\\b)(?!\\d)\\b' % n_digits, text)\n",
    "\n",
    "\n",
    "def find_num_ranges(text: str) -> list:\n",
    "    return re.findall(r'\\b\\d+-\\d+\\b', text)\n",
    "\n",
    "# Ejemplo de uso:\n",
    "texto_ejemplo = \"1234; 5678 999das; asd2623, 9873, 4321-6789\"\n",
    "n_digitos = 4\n",
    "nums_exactamente_digitos = find_nums_exactly_digits(texto_ejemplo, n_digitos)\n",
    "print(nums_exactamente_digitos)\n",
    "num_ranges = find_num_ranges(texto_ejemplo)\n",
    "print(num_ranges)\n"
   ]
  },
  {
   "cell_type": "code",
   "execution_count": null,
   "metadata": {},
   "outputs": [],
   "source": [
    "rare_cases = {\"rare_cases\": []}\n",
    "for city in cities:\n",
    "    postal = city.postal_codes_wikipedia[0]\n",
    "    try:\n",
    "        postal_clean = process_postal_code_de(postal)\n",
    "    except Exception as e:\n",
    "        categorize = categorize_postal_code_de(postal)\n",
    "        print(f\"categorize: {categorize}\")\n",
    "        print(postal)\n",
    "        print(e)\n",
    "        print(\"-\"*40)\n",
    "    if postal_clean is None:\n",
    "        print(f\"postal={city.postal_codes_wikipedia} | postal_clean={postal_clean}\")\n",
    "        rare_cases[\"rare_cases\"].append({\n",
    "            \"name_native\": city.name,\n",
    "            \"id_csc\": city.id_csc,\n",
    "            \"id_wikidata\": city.id_wikidata,\n",
    "            \"rare_postal_wikipedia\": postal\n",
    "        })\n",
    "with open(\"rare_cases_DE2.json\", \"w\") as f:\n",
    "    json.dump(rare_cases, f)"
   ]
  },
  {
   "cell_type": "code",
   "execution_count": null,
   "metadata": {},
   "outputs": [],
   "source": [
    "from geodata.wikipedia.process_postals.de import process_postal_code_de\n",
    "\n",
    "\n",
    "postal_codes = [\n",
    "    \"(nr. 0310) 13127\",\n",
    "    \"(nr. 0702) 12159, 12161\",\n",
    "    #\"1234\",\n",
    "    #\"1112345-1112355\",\n",
    "    #\"12345, 67890, 123456\",\n",
    "    #\"9827-9829, 12345, 67890-67895\",\n",
    "    #\"78142-78144, 78701-78713\",\n",
    "    #\"invalid_code\"\n",
    "]\n",
    "\n",
    "for code in postal_codes:\n",
    "    print(f\"Postal code: {code}\")\n",
    "    print(f\"Processed: {process_postal_code_de(code)}\")\n",
    "    print()\n"
   ]
  },
  {
   "cell_type": "code",
   "execution_count": null,
   "metadata": {},
   "outputs": [],
   "source": [
    "rare_cases = {\"rare_cases\": []}\n",
    "for city in cities:\n",
    "    postal = city.postal_codes_wikipedia[0]\n",
    "    if categorize_postal_code(postal) == \"INVALID\":\n",
    "        rare_cases[\"rare_cases\"].append({\n",
    "            \"name_native\": city.name_native,\n",
    "            \"id_csc\": city.id_csc,\n",
    "            \"id_wikidata\": city.id_wikidata,\n",
    "            \"rare_postal_wikipedia\": postal\n",
    "        })"
   ]
  },
  {
   "cell_type": "code",
   "execution_count": null,
   "metadata": {},
   "outputs": [],
   "source": [
    "import json\n",
    "\n",
    "with open(\"rare_cases_DE.json\", \"w\") as f:\n",
    "    json.dump(rare_cases, f)"
   ]
  },
  {
   "cell_type": "code",
   "execution_count": null,
   "metadata": {},
   "outputs": [],
   "source": [
    "\n",
    "\n",
    "text = is_only_numbers(\"\")\n",
    "text"
   ]
  },
  {
   "cell_type": "code",
   "execution_count": null,
   "metadata": {},
   "outputs": [],
   "source": [
    "cities_2 = []\n",
    "for city in cities:\n",
    "    for postal in city.postal_codes_wikipedia:\n",
    "        for char in postal:\n",
    "            if char not in \"0123456789-, \":\n",
    "                cities_2.append(city)\n",
    "                break\n",
    "cities_2"
   ]
  }
 ],
 "metadata": {
  "kernelspec": {
   "display_name": "env",
   "language": "python",
   "name": "python3"
  },
  "language_info": {
   "codemirror_mode": {
    "name": "ipython",
    "version": 3
   },
   "file_extension": ".py",
   "mimetype": "text/x-python",
   "name": "python",
   "nbconvert_exporter": "python",
   "pygments_lexer": "ipython3",
   "version": "3.12.3"
  }
 },
 "nbformat": 4,
 "nbformat_minor": 2
}
